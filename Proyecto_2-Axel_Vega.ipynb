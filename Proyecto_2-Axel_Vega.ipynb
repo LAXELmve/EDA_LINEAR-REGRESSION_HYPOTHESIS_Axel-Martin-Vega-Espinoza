{
 "cells": [
  {
   "cell_type": "markdown",
   "id": "2f8548a1-49dd-47a3-bac7-ee87ce09f777",
   "metadata": {},
   "source": [
    "# UNIDAD 2 - PROYECTO: EDA + REGRESIÓN + PRUEBAS DE HIPÓTESIS "
   ]
  },
  {
   "cell_type": "markdown",
   "id": "29348b4d-1d92-47a4-9a02-e245a62bf9d2",
   "metadata": {},
   "source": [
    "## Nombre del estudiante: Axel Martin Vega Espinoza\n",
    "## Número de control: 20120168"
   ]
  },
  {
   "cell_type": "markdown",
   "id": "d4f5ccac-422f-4d0d-b616-57d0818ec5c6",
   "metadata": {},
   "source": [
    "# ETAPA 1: Exploración de los datos."
   ]
  },
  {
   "cell_type": "markdown",
   "id": "e320ea4f-0a00-4019-8db1-cf7c821412b9",
   "metadata": {},
   "source": [
    "## Paso 1: Cargue el dataset (\"Retrasos.csv\") en un dataframe, muestre información básica, enliste las columnas numéricas y las columnas objeto."
   ]
  },
  {
   "cell_type": "code",
   "execution_count": 1,
   "id": "4f9a949e",
   "metadata": {},
   "outputs": [],
   "source": [
    "# Importación de las librerías a utilizar.\n",
    "import pandas as pd\n",
    "import matplotlib.pyplot as plt\n",
    "import seaborn as sns\n",
    "import numpy as np"
   ]
  },
  {
   "cell_type": "code",
   "execution_count": 2,
   "id": "2080e221-0eaa-409a-9cba-d77ecbec06ac",
   "metadata": {},
   "outputs": [],
   "source": [
    "# Quitar limite de columnas máximas\n",
    "pd.set_option('display.max_columns', None)"
   ]
  },
  {
   "cell_type": "code",
   "execution_count": 3,
   "id": "16da6cbb-d4f6-4a9d-a07b-63e200f084b2",
   "metadata": {},
   "outputs": [],
   "source": [
    "# Obtener DataFrame\n",
    "df = pd.read_csv(\"datasets/Retrasos.csv\")"
   ]
  },
  {
   "cell_type": "code",
   "execution_count": 4,
   "id": "e88723f1-1697-4fb2-9037-40838f5a7f2d",
   "metadata": {},
   "outputs": [
    {
     "data": {
      "text/html": [
       "<div>\n",
       "<style scoped>\n",
       "    .dataframe tbody tr th:only-of-type {\n",
       "        vertical-align: middle;\n",
       "    }\n",
       "\n",
       "    .dataframe tbody tr th {\n",
       "        vertical-align: top;\n",
       "    }\n",
       "\n",
       "    .dataframe thead th {\n",
       "        text-align: right;\n",
       "    }\n",
       "</style>\n",
       "<table border=\"1\" class=\"dataframe\">\n",
       "  <thead>\n",
       "    <tr style=\"text-align: right;\">\n",
       "      <th></th>\n",
       "      <th>id</th>\n",
       "      <th>country</th>\n",
       "      <th>managed_by</th>\n",
       "      <th>fulfill_via</th>\n",
       "      <th>vendor_inco_term</th>\n",
       "      <th>shipment_mode</th>\n",
       "      <th>late_delivery</th>\n",
       "      <th>late</th>\n",
       "      <th>product_group</th>\n",
       "      <th>sub_classification</th>\n",
       "      <th>vendor</th>\n",
       "      <th>item_description</th>\n",
       "      <th>molecule_test_type</th>\n",
       "      <th>brand</th>\n",
       "      <th>dosage</th>\n",
       "      <th>dosage_form</th>\n",
       "      <th>unit_of_measure_per_pack</th>\n",
       "      <th>line_item_quantity</th>\n",
       "      <th>line_item_value</th>\n",
       "      <th>pack_price</th>\n",
       "      <th>unit_price</th>\n",
       "      <th>unit_cost</th>\n",
       "      <th>manufacturing_site</th>\n",
       "      <th>first_line_designation</th>\n",
       "      <th>weight_kilograms</th>\n",
       "      <th>freight_cost_usd</th>\n",
       "      <th>freight_cost_groups</th>\n",
       "      <th>line_item_insurance_usd</th>\n",
       "    </tr>\n",
       "  </thead>\n",
       "  <tbody>\n",
       "    <tr>\n",
       "      <th>0</th>\n",
       "      <td>36203</td>\n",
       "      <td>Nigeria</td>\n",
       "      <td>PMO - US</td>\n",
       "      <td>Direct Drop</td>\n",
       "      <td>EXW</td>\n",
       "      <td>Air</td>\n",
       "      <td>1</td>\n",
       "      <td>Yes</td>\n",
       "      <td>HRDT</td>\n",
       "      <td>HIV test</td>\n",
       "      <td>Orgenics, Ltd</td>\n",
       "      <td>HIV 1/2, Determine Complete HIV Kit, 100 Tests</td>\n",
       "      <td>HIV 1/2, Determine Complete HIV Kit</td>\n",
       "      <td>Determine</td>\n",
       "      <td>NaN</td>\n",
       "      <td>Test kit</td>\n",
       "      <td>100</td>\n",
       "      <td>2996</td>\n",
       "      <td>266644.00</td>\n",
       "      <td>89.00</td>\n",
       "      <td>0.89</td>\n",
       "      <td>0.3</td>\n",
       "      <td>Alere Medical Co., Ltd.</td>\n",
       "      <td>Yes</td>\n",
       "      <td>1426</td>\n",
       "      <td>33279.83</td>\n",
       "      <td>expensive</td>\n",
       "      <td>373.83</td>\n",
       "    </tr>\n",
       "    <tr>\n",
       "      <th>1</th>\n",
       "      <td>30998</td>\n",
       "      <td>Botswana</td>\n",
       "      <td>PMO - US</td>\n",
       "      <td>Direct Drop</td>\n",
       "      <td>EXW</td>\n",
       "      <td>Air</td>\n",
       "      <td>0</td>\n",
       "      <td>No</td>\n",
       "      <td>HRDT</td>\n",
       "      <td>HIV test</td>\n",
       "      <td>Trinity Biotech, Plc</td>\n",
       "      <td>HIV 1/2, Uni-Gold HIV Kit, 20 Tests</td>\n",
       "      <td>HIV 1/2, Uni-Gold HIV Kit</td>\n",
       "      <td>Uni-Gold</td>\n",
       "      <td>NaN</td>\n",
       "      <td>Test kit</td>\n",
       "      <td>20</td>\n",
       "      <td>25</td>\n",
       "      <td>800.00</td>\n",
       "      <td>32.00</td>\n",
       "      <td>1.60</td>\n",
       "      <td>NaN</td>\n",
       "      <td>Trinity Biotech, Plc</td>\n",
       "      <td>Yes</td>\n",
       "      <td>10</td>\n",
       "      <td>559.89</td>\n",
       "      <td>reasonable</td>\n",
       "      <td>1.72</td>\n",
       "    </tr>\n",
       "    <tr>\n",
       "      <th>2</th>\n",
       "      <td>69871</td>\n",
       "      <td>Vietnam</td>\n",
       "      <td>PMO - US</td>\n",
       "      <td>Direct Drop</td>\n",
       "      <td>EXW</td>\n",
       "      <td>Air</td>\n",
       "      <td>0</td>\n",
       "      <td>No</td>\n",
       "      <td>ARV</td>\n",
       "      <td>Adult</td>\n",
       "      <td>HETERO LABS LIMITED</td>\n",
       "      <td>Lamivudine/Nevirapine/Stavudine 150/200/30mg, ...</td>\n",
       "      <td>Lamivudine/Nevirapine/Stavudine</td>\n",
       "      <td>Generic</td>\n",
       "      <td>150/200/30mg</td>\n",
       "      <td>Tablet - FDC</td>\n",
       "      <td>60</td>\n",
       "      <td>22925</td>\n",
       "      <td>110040.00</td>\n",
       "      <td>4.80</td>\n",
       "      <td>0.08</td>\n",
       "      <td>NaN</td>\n",
       "      <td>Hetero Unit III Hyderabad IN</td>\n",
       "      <td>Yes</td>\n",
       "      <td>3723</td>\n",
       "      <td>19056.13</td>\n",
       "      <td>expensive</td>\n",
       "      <td>181.57</td>\n",
       "    </tr>\n",
       "    <tr>\n",
       "      <th>3</th>\n",
       "      <td>17648</td>\n",
       "      <td>South Africa</td>\n",
       "      <td>PMO - US</td>\n",
       "      <td>Direct Drop</td>\n",
       "      <td>DDP</td>\n",
       "      <td>Ocean</td>\n",
       "      <td>0</td>\n",
       "      <td>No</td>\n",
       "      <td>ARV</td>\n",
       "      <td>Adult</td>\n",
       "      <td>Aurobindo Pharma Limited</td>\n",
       "      <td>Lamivudine 150mg, tablets, 60 Tabs</td>\n",
       "      <td>Lamivudine</td>\n",
       "      <td>Generic</td>\n",
       "      <td>150mg</td>\n",
       "      <td>Tablet</td>\n",
       "      <td>60</td>\n",
       "      <td>152535</td>\n",
       "      <td>361507.95</td>\n",
       "      <td>2.37</td>\n",
       "      <td>0.04</td>\n",
       "      <td>NaN</td>\n",
       "      <td>Aurobindo Unit III, India</td>\n",
       "      <td>Yes</td>\n",
       "      <td>7698</td>\n",
       "      <td>11372.23</td>\n",
       "      <td>expensive</td>\n",
       "      <td>779.41</td>\n",
       "    </tr>\n",
       "    <tr>\n",
       "      <th>4</th>\n",
       "      <td>5647</td>\n",
       "      <td>Uganda</td>\n",
       "      <td>PMO - US</td>\n",
       "      <td>Direct Drop</td>\n",
       "      <td>EXW</td>\n",
       "      <td>Air</td>\n",
       "      <td>0</td>\n",
       "      <td>No</td>\n",
       "      <td>HRDT</td>\n",
       "      <td>HIV test - Ancillary</td>\n",
       "      <td>Orgenics, Ltd</td>\n",
       "      <td>HIV, Lancet, Safety, for HIV Test kits, 100 Pcs</td>\n",
       "      <td>HIV, Lancet, Safety, for HIV Test kits, 100 Pcs</td>\n",
       "      <td>Generic</td>\n",
       "      <td>NaN</td>\n",
       "      <td>Test kit - Ancillary</td>\n",
       "      <td>100</td>\n",
       "      <td>850</td>\n",
       "      <td>8.50</td>\n",
       "      <td>0.01</td>\n",
       "      <td>0.00</td>\n",
       "      <td>NaN</td>\n",
       "      <td>Inverness Japan</td>\n",
       "      <td>Yes</td>\n",
       "      <td>56</td>\n",
       "      <td>360.00</td>\n",
       "      <td>reasonable</td>\n",
       "      <td>0.01</td>\n",
       "    </tr>\n",
       "  </tbody>\n",
       "</table>\n",
       "</div>"
      ],
      "text/plain": [
       "      id       country managed_by  fulfill_via vendor_inco_term shipment_mode  \\\n",
       "0  36203       Nigeria   PMO - US  Direct Drop              EXW           Air   \n",
       "1  30998      Botswana   PMO - US  Direct Drop              EXW           Air   \n",
       "2  69871       Vietnam   PMO - US  Direct Drop              EXW           Air   \n",
       "3  17648  South Africa   PMO - US  Direct Drop              DDP         Ocean   \n",
       "4   5647        Uganda   PMO - US  Direct Drop              EXW           Air   \n",
       "\n",
       "   late_delivery late product_group    sub_classification  \\\n",
       "0              1  Yes          HRDT              HIV test   \n",
       "1              0   No          HRDT              HIV test   \n",
       "2              0   No           ARV                 Adult   \n",
       "3              0   No           ARV                 Adult   \n",
       "4              0   No          HRDT  HIV test - Ancillary   \n",
       "\n",
       "                     vendor  \\\n",
       "0             Orgenics, Ltd   \n",
       "1      Trinity Biotech, Plc   \n",
       "2       HETERO LABS LIMITED   \n",
       "3  Aurobindo Pharma Limited   \n",
       "4             Orgenics, Ltd   \n",
       "\n",
       "                                    item_description  \\\n",
       "0     HIV 1/2, Determine Complete HIV Kit, 100 Tests   \n",
       "1                HIV 1/2, Uni-Gold HIV Kit, 20 Tests   \n",
       "2  Lamivudine/Nevirapine/Stavudine 150/200/30mg, ...   \n",
       "3                 Lamivudine 150mg, tablets, 60 Tabs   \n",
       "4    HIV, Lancet, Safety, for HIV Test kits, 100 Pcs   \n",
       "\n",
       "                                molecule_test_type      brand        dosage  \\\n",
       "0              HIV 1/2, Determine Complete HIV Kit  Determine           NaN   \n",
       "1                        HIV 1/2, Uni-Gold HIV Kit   Uni-Gold           NaN   \n",
       "2                  Lamivudine/Nevirapine/Stavudine    Generic  150/200/30mg   \n",
       "3                                       Lamivudine    Generic         150mg   \n",
       "4  HIV, Lancet, Safety, for HIV Test kits, 100 Pcs    Generic           NaN   \n",
       "\n",
       "            dosage_form  unit_of_measure_per_pack  line_item_quantity  \\\n",
       "0              Test kit                       100                2996   \n",
       "1              Test kit                        20                  25   \n",
       "2          Tablet - FDC                        60               22925   \n",
       "3                Tablet                        60              152535   \n",
       "4  Test kit - Ancillary                       100                 850   \n",
       "\n",
       "   line_item_value  pack_price  unit_price  unit_cost  \\\n",
       "0        266644.00       89.00        0.89        0.3   \n",
       "1           800.00       32.00        1.60        NaN   \n",
       "2        110040.00        4.80        0.08        NaN   \n",
       "3        361507.95        2.37        0.04        NaN   \n",
       "4             8.50        0.01        0.00        NaN   \n",
       "\n",
       "             manufacturing_site first_line_designation  weight_kilograms  \\\n",
       "0       Alere Medical Co., Ltd.                    Yes              1426   \n",
       "1          Trinity Biotech, Plc                    Yes                10   \n",
       "2  Hetero Unit III Hyderabad IN                    Yes              3723   \n",
       "3     Aurobindo Unit III, India                    Yes              7698   \n",
       "4               Inverness Japan                    Yes                56   \n",
       "\n",
       "   freight_cost_usd freight_cost_groups  line_item_insurance_usd  \n",
       "0          33279.83           expensive                   373.83  \n",
       "1            559.89          reasonable                     1.72  \n",
       "2          19056.13           expensive                   181.57  \n",
       "3          11372.23           expensive                   779.41  \n",
       "4            360.00          reasonable                     0.01  "
      ]
     },
     "metadata": {},
     "output_type": "display_data"
    }
   ],
   "source": [
    "# las primeras 5 filas del dataset\n",
    "display(df.head())"
   ]
  },
  {
   "cell_type": "code",
   "execution_count": 5,
   "id": "dfcc1d66-512b-4100-8eb5-a8bb1f87ebb3",
   "metadata": {},
   "outputs": [
    {
     "data": {
      "text/html": [
       "<div>\n",
       "<style scoped>\n",
       "    .dataframe tbody tr th:only-of-type {\n",
       "        vertical-align: middle;\n",
       "    }\n",
       "\n",
       "    .dataframe tbody tr th {\n",
       "        vertical-align: top;\n",
       "    }\n",
       "\n",
       "    .dataframe thead th {\n",
       "        text-align: right;\n",
       "    }\n",
       "</style>\n",
       "<table border=\"1\" class=\"dataframe\">\n",
       "  <thead>\n",
       "    <tr style=\"text-align: right;\">\n",
       "      <th></th>\n",
       "      <th>id</th>\n",
       "      <th>country</th>\n",
       "      <th>managed_by</th>\n",
       "      <th>fulfill_via</th>\n",
       "      <th>vendor_inco_term</th>\n",
       "      <th>shipment_mode</th>\n",
       "      <th>late_delivery</th>\n",
       "      <th>late</th>\n",
       "      <th>product_group</th>\n",
       "      <th>sub_classification</th>\n",
       "      <th>vendor</th>\n",
       "      <th>item_description</th>\n",
       "      <th>molecule_test_type</th>\n",
       "      <th>brand</th>\n",
       "      <th>dosage</th>\n",
       "      <th>dosage_form</th>\n",
       "      <th>unit_of_measure_per_pack</th>\n",
       "      <th>line_item_quantity</th>\n",
       "      <th>line_item_value</th>\n",
       "      <th>pack_price</th>\n",
       "      <th>unit_price</th>\n",
       "      <th>unit_cost</th>\n",
       "      <th>manufacturing_site</th>\n",
       "      <th>first_line_designation</th>\n",
       "      <th>weight_kilograms</th>\n",
       "      <th>freight_cost_usd</th>\n",
       "      <th>freight_cost_groups</th>\n",
       "      <th>line_item_insurance_usd</th>\n",
       "    </tr>\n",
       "  </thead>\n",
       "  <tbody>\n",
       "    <tr>\n",
       "      <th>995</th>\n",
       "      <td>13608</td>\n",
       "      <td>Uganda</td>\n",
       "      <td>PMO - US</td>\n",
       "      <td>Direct Drop</td>\n",
       "      <td>DDP</td>\n",
       "      <td>Air</td>\n",
       "      <td>0</td>\n",
       "      <td>No</td>\n",
       "      <td>ARV</td>\n",
       "      <td>Adult</td>\n",
       "      <td>ASPEN PHARMACARE</td>\n",
       "      <td>Etravirine 100mg [Intelence], tablets, 120 Tabs</td>\n",
       "      <td>Etravirine</td>\n",
       "      <td>Intelence</td>\n",
       "      <td>100mg</td>\n",
       "      <td>Tablet</td>\n",
       "      <td>120</td>\n",
       "      <td>121</td>\n",
       "      <td>9075.00</td>\n",
       "      <td>75.00</td>\n",
       "      <td>0.62</td>\n",
       "      <td>NaN</td>\n",
       "      <td>Janssen-Cilag, Latina, IT</td>\n",
       "      <td>Yes</td>\n",
       "      <td>43</td>\n",
       "      <td>199.00</td>\n",
       "      <td>reasonable</td>\n",
       "      <td>12.72</td>\n",
       "    </tr>\n",
       "    <tr>\n",
       "      <th>996</th>\n",
       "      <td>80394</td>\n",
       "      <td>Congo, DRC</td>\n",
       "      <td>PMO - US</td>\n",
       "      <td>Direct Drop</td>\n",
       "      <td>EXW</td>\n",
       "      <td>Air</td>\n",
       "      <td>0</td>\n",
       "      <td>No</td>\n",
       "      <td>HRDT</td>\n",
       "      <td>HIV test</td>\n",
       "      <td>Trinity Biotech, Plc</td>\n",
       "      <td>HIV 1/2, Uni-Gold HIV Kit, 20 Tests</td>\n",
       "      <td>HIV 1/2, Uni-Gold HIV Kit</td>\n",
       "      <td>Uni-Gold</td>\n",
       "      <td>NaN</td>\n",
       "      <td>Test kit</td>\n",
       "      <td>20</td>\n",
       "      <td>292</td>\n",
       "      <td>9344.00</td>\n",
       "      <td>32.00</td>\n",
       "      <td>1.60</td>\n",
       "      <td>NaN</td>\n",
       "      <td>Trinity Biotech, Plc</td>\n",
       "      <td>Yes</td>\n",
       "      <td>99</td>\n",
       "      <td>2162.55</td>\n",
       "      <td>reasonable</td>\n",
       "      <td>13.10</td>\n",
       "    </tr>\n",
       "    <tr>\n",
       "      <th>997</th>\n",
       "      <td>61675</td>\n",
       "      <td>Zambia</td>\n",
       "      <td>PMO - US</td>\n",
       "      <td>Direct Drop</td>\n",
       "      <td>EXW</td>\n",
       "      <td>Air</td>\n",
       "      <td>1</td>\n",
       "      <td>Yes</td>\n",
       "      <td>HRDT</td>\n",
       "      <td>HIV test</td>\n",
       "      <td>Orgenics, Ltd</td>\n",
       "      <td>HIV 1/2, Determine Complete HIV Kit, 100 Tests</td>\n",
       "      <td>HIV 1/2, Determine Complete HIV Kit</td>\n",
       "      <td>Determine</td>\n",
       "      <td>NaN</td>\n",
       "      <td>Test kit</td>\n",
       "      <td>100</td>\n",
       "      <td>2127</td>\n",
       "      <td>170160.00</td>\n",
       "      <td>80.00</td>\n",
       "      <td>0.80</td>\n",
       "      <td>NaN</td>\n",
       "      <td>Alere Medical Co., Ltd.</td>\n",
       "      <td>Yes</td>\n",
       "      <td>881</td>\n",
       "      <td>14019.38</td>\n",
       "      <td>expensive</td>\n",
       "      <td>210.49</td>\n",
       "    </tr>\n",
       "    <tr>\n",
       "      <th>998</th>\n",
       "      <td>39182</td>\n",
       "      <td>South Africa</td>\n",
       "      <td>PMO - US</td>\n",
       "      <td>Direct Drop</td>\n",
       "      <td>DDP</td>\n",
       "      <td>Ocean</td>\n",
       "      <td>0</td>\n",
       "      <td>No</td>\n",
       "      <td>ARV</td>\n",
       "      <td>Adult</td>\n",
       "      <td>Aurobindo Pharma Limited</td>\n",
       "      <td>Efavirenz 600mg, tablets, 30 Tabs</td>\n",
       "      <td>Efavirenz</td>\n",
       "      <td>Generic</td>\n",
       "      <td>600mg</td>\n",
       "      <td>Tablet</td>\n",
       "      <td>30</td>\n",
       "      <td>191011</td>\n",
       "      <td>861459.61</td>\n",
       "      <td>4.51</td>\n",
       "      <td>0.15</td>\n",
       "      <td>NaN</td>\n",
       "      <td>Aurobindo Unit III, India</td>\n",
       "      <td>Yes</td>\n",
       "      <td>16234</td>\n",
       "      <td>14439.17</td>\n",
       "      <td>expensive</td>\n",
       "      <td>1421.41</td>\n",
       "    </tr>\n",
       "    <tr>\n",
       "      <th>999</th>\n",
       "      <td>5645</td>\n",
       "      <td>Botswana</td>\n",
       "      <td>PMO - US</td>\n",
       "      <td>Direct Drop</td>\n",
       "      <td>EXW</td>\n",
       "      <td>Air</td>\n",
       "      <td>0</td>\n",
       "      <td>No</td>\n",
       "      <td>HRDT</td>\n",
       "      <td>HIV test</td>\n",
       "      <td>Orgenics, Ltd</td>\n",
       "      <td>HIV 1/2, Determine HIV Kit, without Lancets, 1...</td>\n",
       "      <td>HIV 1/2, Determine HIV Kit, without Lancets</td>\n",
       "      <td>Determine</td>\n",
       "      <td>NaN</td>\n",
       "      <td>Test kit</td>\n",
       "      <td>100</td>\n",
       "      <td>200</td>\n",
       "      <td>14398.00</td>\n",
       "      <td>71.99</td>\n",
       "      <td>0.72</td>\n",
       "      <td>NaN</td>\n",
       "      <td>Inverness Japan</td>\n",
       "      <td>Yes</td>\n",
       "      <td>46</td>\n",
       "      <td>1028.18</td>\n",
       "      <td>reasonable</td>\n",
       "      <td>23.04</td>\n",
       "    </tr>\n",
       "  </tbody>\n",
       "</table>\n",
       "</div>"
      ],
      "text/plain": [
       "        id       country managed_by  fulfill_via vendor_inco_term  \\\n",
       "995  13608        Uganda   PMO - US  Direct Drop              DDP   \n",
       "996  80394    Congo, DRC   PMO - US  Direct Drop              EXW   \n",
       "997  61675        Zambia   PMO - US  Direct Drop              EXW   \n",
       "998  39182  South Africa   PMO - US  Direct Drop              DDP   \n",
       "999   5645      Botswana   PMO - US  Direct Drop              EXW   \n",
       "\n",
       "    shipment_mode  late_delivery late product_group sub_classification  \\\n",
       "995           Air              0   No           ARV              Adult   \n",
       "996           Air              0   No          HRDT           HIV test   \n",
       "997           Air              1  Yes          HRDT           HIV test   \n",
       "998         Ocean              0   No           ARV              Adult   \n",
       "999           Air              0   No          HRDT           HIV test   \n",
       "\n",
       "                       vendor  \\\n",
       "995          ASPEN PHARMACARE   \n",
       "996      Trinity Biotech, Plc   \n",
       "997             Orgenics, Ltd   \n",
       "998  Aurobindo Pharma Limited   \n",
       "999             Orgenics, Ltd   \n",
       "\n",
       "                                      item_description  \\\n",
       "995    Etravirine 100mg [Intelence], tablets, 120 Tabs   \n",
       "996                HIV 1/2, Uni-Gold HIV Kit, 20 Tests   \n",
       "997     HIV 1/2, Determine Complete HIV Kit, 100 Tests   \n",
       "998                  Efavirenz 600mg, tablets, 30 Tabs   \n",
       "999  HIV 1/2, Determine HIV Kit, without Lancets, 1...   \n",
       "\n",
       "                              molecule_test_type      brand dosage  \\\n",
       "995                                   Etravirine  Intelence  100mg   \n",
       "996                    HIV 1/2, Uni-Gold HIV Kit   Uni-Gold    NaN   \n",
       "997          HIV 1/2, Determine Complete HIV Kit  Determine    NaN   \n",
       "998                                    Efavirenz    Generic  600mg   \n",
       "999  HIV 1/2, Determine HIV Kit, without Lancets  Determine    NaN   \n",
       "\n",
       "    dosage_form  unit_of_measure_per_pack  line_item_quantity  \\\n",
       "995      Tablet                       120                 121   \n",
       "996    Test kit                        20                 292   \n",
       "997    Test kit                       100                2127   \n",
       "998      Tablet                        30              191011   \n",
       "999    Test kit                       100                 200   \n",
       "\n",
       "     line_item_value  pack_price  unit_price  unit_cost  \\\n",
       "995          9075.00       75.00        0.62        NaN   \n",
       "996          9344.00       32.00        1.60        NaN   \n",
       "997        170160.00       80.00        0.80        NaN   \n",
       "998        861459.61        4.51        0.15        NaN   \n",
       "999         14398.00       71.99        0.72        NaN   \n",
       "\n",
       "            manufacturing_site first_line_designation  weight_kilograms  \\\n",
       "995  Janssen-Cilag, Latina, IT                    Yes                43   \n",
       "996       Trinity Biotech, Plc                    Yes                99   \n",
       "997    Alere Medical Co., Ltd.                    Yes               881   \n",
       "998  Aurobindo Unit III, India                    Yes             16234   \n",
       "999            Inverness Japan                    Yes                46   \n",
       "\n",
       "     freight_cost_usd freight_cost_groups  line_item_insurance_usd  \n",
       "995            199.00          reasonable                    12.72  \n",
       "996           2162.55          reasonable                    13.10  \n",
       "997          14019.38           expensive                   210.49  \n",
       "998          14439.17           expensive                  1421.41  \n",
       "999           1028.18          reasonable                    23.04  "
      ]
     },
     "metadata": {},
     "output_type": "display_data"
    }
   ],
   "source": [
    "#las ultimas 5 filas del dataset\n",
    "display(df.tail())"
   ]
  },
  {
   "cell_type": "code",
   "execution_count": 6,
   "id": "9f88c305-3c25-4d6c-82de-c01f689d861a",
   "metadata": {},
   "outputs": [
    {
     "name": "stdout",
     "output_type": "stream",
     "text": [
      "<class 'pandas.core.frame.DataFrame'>\n",
      "RangeIndex: 1000 entries, 0 to 999\n",
      "Data columns (total 28 columns):\n",
      " #   Column                    Non-Null Count  Dtype  \n",
      "---  ------                    --------------  -----  \n",
      " 0   id                        1000 non-null   int64  \n",
      " 1   country                   1000 non-null   object \n",
      " 2   managed_by                1000 non-null   object \n",
      " 3   fulfill_via               1000 non-null   object \n",
      " 4   vendor_inco_term          1000 non-null   object \n",
      " 5   shipment_mode             1000 non-null   object \n",
      " 6   late_delivery             1000 non-null   int64  \n",
      " 7   late                      1000 non-null   object \n",
      " 8   product_group             1000 non-null   object \n",
      " 9   sub_classification        1000 non-null   object \n",
      " 10  vendor                    1000 non-null   object \n",
      " 11  item_description          1000 non-null   object \n",
      " 12  molecule_test_type        1000 non-null   object \n",
      " 13  brand                     1000 non-null   object \n",
      " 14  dosage                    591 non-null    object \n",
      " 15  dosage_form               1000 non-null   object \n",
      " 16  unit_of_measure_per_pack  1000 non-null   int64  \n",
      " 17  line_item_quantity        1000 non-null   int64  \n",
      " 18  line_item_value           1000 non-null   float64\n",
      " 19  pack_price                1000 non-null   float64\n",
      " 20  unit_price                1000 non-null   float64\n",
      " 21  unit_cost                 17 non-null     float64\n",
      " 22  manufacturing_site        1000 non-null   object \n",
      " 23  first_line_designation    1000 non-null   object \n",
      " 24  weight_kilograms          1000 non-null   int64  \n",
      " 25  freight_cost_usd          986 non-null    float64\n",
      " 26  freight_cost_groups       986 non-null    object \n",
      " 27  line_item_insurance_usd   966 non-null    float64\n",
      "dtypes: float64(6), int64(5), object(17)\n",
      "memory usage: 218.9+ KB\n",
      "None\n"
     ]
    }
   ],
   "source": [
    "# Tipo de cada columna\n",
    "print(df.info())"
   ]
  },
  {
   "cell_type": "code",
   "execution_count": 23,
   "id": "6e6e9400-0a66-4fb5-8ef3-c970f0a0cfa8",
   "metadata": {
    "tags": []
   },
   "outputs": [
    {
     "name": "stdout",
     "output_type": "stream",
     "text": [
      "<class 'pandas.core.frame.DataFrame'>\n",
      "RangeIndex: 1000 entries, 0 to 999\n",
      "Data columns (total 11 columns):\n",
      " #   Column                    Non-Null Count  Dtype  \n",
      "---  ------                    --------------  -----  \n",
      " 0   id                        1000 non-null   int64  \n",
      " 1   late_delivery             1000 non-null   int64  \n",
      " 2   unit_of_measure_per_pack  1000 non-null   int64  \n",
      " 3   line_item_quantity        1000 non-null   int64  \n",
      " 4   line_item_value           1000 non-null   float64\n",
      " 5   pack_price                1000 non-null   float64\n",
      " 6   unit_price                1000 non-null   float64\n",
      " 7   unit_cost                 17 non-null     float64\n",
      " 8   weight_kilograms          1000 non-null   int64  \n",
      " 9   freight_cost_usd          986 non-null    float64\n",
      " 10  line_item_insurance_usd   966 non-null    float64\n",
      "dtypes: float64(6), int64(5)\n",
      "memory usage: 86.1 KB\n",
      "None\n"
     ]
    }
   ],
   "source": [
    "print(df.select_dtypes(include='number').info())"
   ]
  },
  {
   "cell_type": "code",
   "execution_count": 24,
   "id": "7284fe4d-2855-4cd1-a60f-a791d88e2d0b",
   "metadata": {
    "tags": []
   },
   "outputs": [
    {
     "name": "stdout",
     "output_type": "stream",
     "text": [
      "<class 'pandas.core.frame.DataFrame'>\n",
      "RangeIndex: 1000 entries, 0 to 999\n",
      "Data columns (total 17 columns):\n",
      " #   Column                  Non-Null Count  Dtype \n",
      "---  ------                  --------------  ----- \n",
      " 0   country                 1000 non-null   object\n",
      " 1   managed_by              1000 non-null   object\n",
      " 2   fulfill_via             1000 non-null   object\n",
      " 3   vendor_inco_term        1000 non-null   object\n",
      " 4   shipment_mode           1000 non-null   object\n",
      " 5   late                    1000 non-null   object\n",
      " 6   product_group           1000 non-null   object\n",
      " 7   sub_classification      1000 non-null   object\n",
      " 8   vendor                  1000 non-null   object\n",
      " 9   item_description        1000 non-null   object\n",
      " 10  molecule_test_type      1000 non-null   object\n",
      " 11  brand                   1000 non-null   object\n",
      " 12  dosage                  591 non-null    object\n",
      " 13  dosage_form             1000 non-null   object\n",
      " 14  manufacturing_site      1000 non-null   object\n",
      " 15  first_line_designation  1000 non-null   object\n",
      " 16  freight_cost_groups     986 non-null    object\n",
      "dtypes: object(17)\n",
      "memory usage: 132.9+ KB\n",
      "None\n"
     ]
    }
   ],
   "source": [
    "print(df.select_dtypes(include='object').info())"
   ]
  },
  {
   "cell_type": "markdown",
   "id": "dc9b94f7-324b-4601-baa6-01a95bbe2f8f",
   "metadata": {},
   "source": [
    "## Paso 2: Haga conteo de datos nulos (ordene de forma descendente); de las variables numéricas, muestre datos estadísticos; de las variables de tipo objeto, determine cuáles sí son factibles para convertir en categóricas y el porqué."
   ]
  },
  {
   "cell_type": "code",
   "execution_count": 7,
   "id": "9372936d-5fc3-4a47-bfbf-2c242024b1ec",
   "metadata": {},
   "outputs": [],
   "source": [
    "# Su código aquí."
   ]
  },
  {
   "cell_type": "markdown",
   "id": "59e48d9b-a793-44b5-9f05-701ab932471a",
   "metadata": {},
   "source": [
    "## Paso 3: Identifique si las columnas numéricas cuentan con anomalías, para ello puede apoyarse de gráficos; identifique si las columnas objeto tienen inconsistencias, para ello puede apoyarse de gráficos."
   ]
  },
  {
   "cell_type": "code",
   "execution_count": 8,
   "id": "aaf19baf-e7f1-4f38-a052-5b1c0ca0577d",
   "metadata": {},
   "outputs": [],
   "source": [
    "# Su código aquí."
   ]
  },
  {
   "cell_type": "markdown",
   "id": "10c38699-e041-40c1-8c60-36af8cdb3392",
   "metadata": {},
   "source": [
    "## Paso 4: Muestre las correlaciones (pearson y spearman) que hay en general (valores numéricos), puede utilizar gráficos, ¿cambian mucho los valores entre cada tipo de coeficiente de correlación?"
   ]
  },
  {
   "cell_type": "code",
   "execution_count": 9,
   "id": "fde886e4-79ed-4660-a883-90b4eaaa3bc9",
   "metadata": {},
   "outputs": [],
   "source": [
    "# Su código aquí."
   ]
  },
  {
   "cell_type": "markdown",
   "id": "785e60da-02c5-434b-947c-1b62c441bde8",
   "metadata": {},
   "source": [
    "## Paso 5: Muestre los gráficos de distribución de las columnas, elija el tipo de gráfico adecuado para el tipo de variable que está analizando."
   ]
  },
  {
   "cell_type": "code",
   "execution_count": 10,
   "id": "c1edfd76-9f30-45c3-8e35-8a80c5c57711",
   "metadata": {},
   "outputs": [],
   "source": [
    "# Su código aquí."
   ]
  },
  {
   "cell_type": "markdown",
   "id": "a7cb3b2f-3128-4435-99d8-48ebea0428c3",
   "metadata": {},
   "source": [
    "# ETAPA 2: Manipulación y tratamiento de los datos."
   ]
  },
  {
   "cell_type": "markdown",
   "id": "1c412499-2aa0-42b7-86cb-250a6dc03cbf",
   "metadata": {},
   "source": [
    "## Paso 1: Trate los datos nulos, emplee las técnicas que considere más adecuadas de acuerdo al caso específico. Justifique el porqué de la técnicas que escogió."
   ]
  },
  {
   "cell_type": "code",
   "execution_count": 11,
   "id": "935fb443-ebb0-4567-8e5d-ab67dfa025f5",
   "metadata": {},
   "outputs": [],
   "source": [
    "# Su código aquí."
   ]
  },
  {
   "cell_type": "markdown",
   "id": "affe9343-b48d-4185-bd9e-827cdb04b1ed",
   "metadata": {},
   "source": [
    "## Paso 2: Convierta en categorías las variables objeto que considere adecuadas, en caso de ser necesario, trate las inconsistencias."
   ]
  },
  {
   "cell_type": "code",
   "execution_count": 12,
   "id": "94bc05b5-3a47-4f17-ae2c-f2c173c8a97d",
   "metadata": {},
   "outputs": [],
   "source": [
    "# Su código aquí."
   ]
  },
  {
   "cell_type": "markdown",
   "id": "10391cba-cb28-407b-b6b8-8a3742450545",
   "metadata": {},
   "source": [
    "## Paso 3: Utilice el coeficiente de variación para determinar qué columnas (variables) numéricas tienen mayor dispersión."
   ]
  },
  {
   "cell_type": "code",
   "execution_count": 13,
   "id": "8d54a916-a19a-4409-9578-a141d9f52291",
   "metadata": {},
   "outputs": [],
   "source": [
    "# Su código aquí."
   ]
  },
  {
   "cell_type": "markdown",
   "id": "a354f7e5-ff55-4d9a-a781-f56b997dd05e",
   "metadata": {},
   "source": [
    "## Paso 4: De las variables con mayor dispersión, presente su distribución, su gráfico boxplot, y describa a qué se debe que haya tanta dispersión."
   ]
  },
  {
   "cell_type": "code",
   "execution_count": 14,
   "id": "5625c221-2c95-42b0-8d16-3f8d1fea77b4",
   "metadata": {},
   "outputs": [],
   "source": [
    "# Su código aquí."
   ]
  },
  {
   "cell_type": "markdown",
   "id": "24eb9d07-352a-401a-bfe0-9c77b8fb049e",
   "metadata": {},
   "source": [
    "## Paso 5: Conteste las siguientes preguntas acorde a la información obtenida de los datos.\n",
    "#### ¿Considera que con los datos numéricos actuales se pueden realizar predicciones para la columna \"line_item_insurance_usd\"?\n",
    "#### ¿Considera que con los datos numéricos actuales se pueden realizar predicciones para la columna \"late_delivery\"?\n",
    "#### ¿Cree que alguna otra columna (objeto o categórica) se pueda correlacionar fuertemente con \"late_delivery\"?, si es así, ¿cuál o cuáles cree que tendrían una correlación fuerte?"
   ]
  },
  {
   "cell_type": "markdown",
   "id": "b48d5f60-5e73-498c-b7c1-a29c09b6f98f",
   "metadata": {},
   "source": [
    "# ETAPA 3: Construcción de un modelo de regresión lineal."
   ]
  },
  {
   "cell_type": "markdown",
   "id": "e8186811-ef58-4b24-8d7c-0248c0a83728",
   "metadata": {},
   "source": [
    "## Paso 1: Seleccionar las columnas que estén más correlacionadas con \"line_item_insurance_usd\" y asígnelas en la variable \"X\", seleccione la columna \"line_item_insurance_usd\" y asignela a la variable \"y\"."
   ]
  },
  {
   "cell_type": "code",
   "execution_count": 15,
   "id": "07c3430a-0a3a-435d-ad9a-186d7a232422",
   "metadata": {},
   "outputs": [],
   "source": [
    "# Su código aquí."
   ]
  },
  {
   "cell_type": "markdown",
   "id": "4cfc2592-3bef-485c-89d1-a7c98ce6e5d6",
   "metadata": {},
   "source": [
    "## Paso 2: Divida en dos muestras los dos dataframes creados anteriormente (X,y), debe tener una muestra para entrenamiento y otra para pruebas, el tamaño de la muestra de entrenamiento debe ser del 80%, asigne una semilla aleatoria con valor de 2033 para poder brindar reproducibilidad."
   ]
  },
  {
   "cell_type": "code",
   "execution_count": 16,
   "id": "0a682d8a-d874-42a6-8fd5-57ea43ebe60a",
   "metadata": {},
   "outputs": [],
   "source": [
    "# Su código aquí."
   ]
  },
  {
   "cell_type": "markdown",
   "id": "69e3966e-1137-4bb5-b42d-0bbbd8f2ba62",
   "metadata": {},
   "source": [
    "## Paso 3: Importe el modelo de regresión lineal (multivariable) de sklearn, entrene el modelo con el set de datos de entrenamiento, posteriormente haga predicciones con el set de pruebas (X_train)."
   ]
  },
  {
   "cell_type": "code",
   "execution_count": 17,
   "id": "68997ec1-dfeb-4dce-91f1-10184f29f9b3",
   "metadata": {},
   "outputs": [],
   "source": [
    "# Su código aquí."
   ]
  },
  {
   "cell_type": "markdown",
   "id": "ef496f49-21e0-4c59-b54d-f1ab4a1fbd65",
   "metadata": {},
   "source": [
    "## Paso 4: Evalúe el modelo con la métrica \"accuracy_score\" y la métrica \"f1_score\" (ambas disponibles con sklearn)."
   ]
  },
  {
   "cell_type": "code",
   "execution_count": 18,
   "id": "0eefe010-1ac6-4469-9343-5eb8f6c29153",
   "metadata": {},
   "outputs": [],
   "source": [
    "# Su código aquí."
   ]
  },
  {
   "cell_type": "markdown",
   "id": "d3439afe-b04d-46ae-9898-689f5582ae72",
   "metadata": {},
   "source": [
    "## Paso 5: Responda.\n",
    "#### ¿Su modelo fue capaz de realizar predicciones con precisión?\n",
    "#### ¿A qué cree que se deba el rendimiento de su modelo?\n",
    "#### Si selecciona todas las variables y las asigna en X, en lugar de las que tienen correlación más fuerte, ¿cree que el modelo mejore o empeore?"
   ]
  },
  {
   "cell_type": "markdown",
   "id": "baadd2cd-2a90-446c-af31-96af69ee76c2",
   "metadata": {},
   "source": [
    "# ETAPA 4: Hipótesis."
   ]
  },
  {
   "cell_type": "markdown",
   "id": "b57a7ed3-a450-4f0f-bb3c-6ffbf93e6933",
   "metadata": {},
   "source": [
    "## Paso 1: Defina la hipótesis nula a partir de la siguiente pregunta:\n",
    "#### ¿La proporción de entrega tarde (\"late_delivery\") es mayor a 0.06 (6%)?, asigne el valor de la hipótesis nula a la variable \"Ho\".\n",
    "#### Considere un nivel de significación del 5%."
   ]
  },
  {
   "cell_type": "code",
   "execution_count": 19,
   "id": "1ec8dc1f-bc28-4d5f-9bae-8c548e209e0b",
   "metadata": {},
   "outputs": [],
   "source": [
    "# Su código aquí"
   ]
  },
  {
   "cell_type": "markdown",
   "id": "03413d34-6921-421a-9247-6d0ff011b012",
   "metadata": {},
   "source": [
    "## Paso 2: Defina la hipótesis alternativa según la pregunta anterior, solo escríba cómo quedaría y qué tipo de prueba de hipótesis se utilizará."
   ]
  },
  {
   "cell_type": "markdown",
   "id": "c380a20f-3407-4e97-9ae9-2edc08d47138",
   "metadata": {},
   "source": [
    "Su respuesta:"
   ]
  },
  {
   "cell_type": "markdown",
   "id": "8e14649c-e63d-440b-bc8b-d12300c656c1",
   "metadata": {},
   "source": [
    "## Paso 3: Haga una distribución bootstrap de la columna \"late_delivery\" y calcule el error estándar, guárdelo en una variable. El tamaño de la lista de la distribución de boostrap queda a libre elección, muestre un histograma de la distribución bootstrap."
   ]
  },
  {
   "cell_type": "code",
   "execution_count": 20,
   "id": "6034b90e-70c8-4abd-a93a-30124cf9a511",
   "metadata": {},
   "outputs": [],
   "source": [
    "# Su código aquí."
   ]
  },
  {
   "cell_type": "markdown",
   "id": "61aab648-7722-4f31-8622-98c399742425",
   "metadata": {},
   "source": [
    "## Paso 4: Calcule la puntuación Z y guárdela en una variable."
   ]
  },
  {
   "cell_type": "code",
   "execution_count": 21,
   "id": "32e85789-6a0d-4c63-9a88-93e7d2279209",
   "metadata": {},
   "outputs": [],
   "source": [
    "# Su código aquí."
   ]
  },
  {
   "cell_type": "markdown",
   "id": "6baaa111-3f5c-48ba-a5db-6eaa1ea79339",
   "metadata": {},
   "source": [
    "## Paso 5: Dependiendo del tipo de prueba, calcule el valor de P (p-value) y diga si puede rechazar (o falla al rechazar) la hipótesis nula.\n",
    "## Calcule el intervalo de confianza, utilice los cuantiles adecuados dado el nivel de significación establecido previamente."
   ]
  },
  {
   "cell_type": "code",
   "execution_count": 22,
   "id": "f39fde40-4f64-43cc-ba3e-0616f628ad60",
   "metadata": {},
   "outputs": [],
   "source": [
    "# Su código aquí."
   ]
  },
  {
   "cell_type": "markdown",
   "id": "ab0ee80f-8b02-4b93-a1ae-fffef78f84f8",
   "metadata": {},
   "source": [
    "# ETAPA 5: Publicando el notebook."
   ]
  },
  {
   "cell_type": "markdown",
   "id": "4b4fce0e-2dcb-4820-bee1-54bf468c3ad0",
   "metadata": {},
   "source": [
    "## Paso 1: Al igual que con el proyecto anterior, haga un repositorio público en su cuenta de GitHub."
   ]
  },
  {
   "cell_type": "markdown",
   "id": "88a4294d-db9d-4d20-80d6-bbf9747569fb",
   "metadata": {},
   "source": [
    "## Paso 2: Suba este archivo jupyter-notebook junto con el archivo de instrucciones y el set de datos."
   ]
  },
  {
   "cell_type": "markdown",
   "id": "5c5e141c-3b5f-4393-be28-0eb7768692ff",
   "metadata": {},
   "source": [
    "## Paso 3: Documente apropiadamente el proyecto en el repositorio público, haga uso del archivo \"README\" que suele crearse."
   ]
  },
  {
   "cell_type": "markdown",
   "id": "80673338-b9cd-4a1f-a0c3-494b67cc7d00",
   "metadata": {},
   "source": [
    "## Paso 4: Copie el enlace al repositorio y mándelo al entregar la actividad. \n",
    "# IMPORTANTE: Al entregar este proyecto, debe entregar este archivo y el enlace a la copia que estará en GitHub, se necesitan de ambas cosas."
   ]
  }
 ],
 "metadata": {
  "kernelspec": {
   "display_name": "Python 3 (ipykernel)",
   "language": "python",
   "name": "python3"
  },
  "language_info": {
   "codemirror_mode": {
    "name": "ipython",
    "version": 3
   },
   "file_extension": ".py",
   "mimetype": "text/x-python",
   "name": "python",
   "nbconvert_exporter": "python",
   "pygments_lexer": "ipython3",
   "version": "3.11.5"
  }
 },
 "nbformat": 4,
 "nbformat_minor": 5
}
